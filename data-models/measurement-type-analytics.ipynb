{
 "cells": [
  {
   "cell_type": "code",
   "execution_count": null,
   "metadata": {},
   "outputs": [],
   "source": [
    "#Load modules\n",
    "import sys\n",
    "import os\n",
    "import json\n",
    "import csv\n",
    "from datetime import date"
   ]
  },
  {
   "cell_type": "markdown",
   "metadata": {},
   "source": [
    "## Metrics\n",
    "\n",
    "- how many measurement types are used (count by type)?\n",
    "- how many device types have the same measurement type defined more than once?\n",
    "- how many different topic / data key combinations exist for the same measurement type?"
   ]
  },
  {
   "cell_type": "code",
   "execution_count": null,
   "metadata": {},
   "outputs": [],
   "source": [
    "#Get all measurement categories\n",
    "libraryPath = '../types'\n",
    "types = []\n",
    "for manufacturer in os.listdir(libraryPath):\n",
    "    manufacturer_path = libraryPath + \"/\" + manufacturer\n",
    "    if os.path.isdir(manufacturer_path) and not manufacturer.startswith('.'):\n",
    "        for dt in os.listdir(manufacturer_path):\n",
    "            dt_path = manufacturer_path + \"/\" + dt\n",
    "            if os.path.isdir(dt_path) and not dt.startswith('.'):\n",
    "                types.append(dt_path)\n",
    "                \n",
    "print(\"number of types: \"+ str(len(types)))"
   ]
  },
  {
   "cell_type": "code",
   "execution_count": null,
   "metadata": {},
   "outputs": [],
   "source": [
    "from glob import glob\n",
    "import pandas as pd\n",
    "\n",
    "data_key_stats = []\n",
    "measurement_type_stats = {}\n",
    "\n",
    "for dt in types:\n",
    "    for schema in glob(dt + \"/*.schema.json\", recursive = True):\n",
    "        manufacturer = schema.split(os.sep)[2]\n",
    "        dt = schema.split(os.sep)[3]\n",
    "        topic = schema.split(os.sep)[4].split(\".schema.json\")[0]\n",
    "        with open(schema) as f:\n",
    "            dt_schema = json.load(f)\n",
    "            n_data_keys = len(dt_schema[\"properties\"].keys())\n",
    "            data_key_stats.append({\"n_data_keys\": n_data_keys, \"manufacturer\": manufacturer, \"device_type\": dt, \"topic\": topic, \"device_type_id\": manufacturer + \".\" + dt})\n",
    "\n",
    "            for data_key, value in dt_schema[\"properties\"].items():\n",
    "                measurement_type = value.get(\"$ref\")\n",
    "                if measurement_type is not None:\n",
    "                    if measurement_type in measurement_type_stats:\n",
    "                        measurement_type_stats[measurement_type][\"count\"] += 1\n",
    "                        measurement_type_stats[measurement_type][\"topics\"].add(dt_schema[\"topic\"])\n",
    "                        measurement_type_stats[measurement_type][\"dataKeys\"].add(data_key)\n",
    "                    else:\n",
    "                        measurement_type_stats[measurement_type] = { \"count\":  1, \"topics\": {dt_schema[\"topic\"]}, \"dataKeys\": {data_key}}\n",
    "                    \n",
    "df = pd.DataFrame(data_key_stats)\n",
    "df.head()"
   ]
  },
  {
   "cell_type": "code",
   "execution_count": null,
   "metadata": {},
   "outputs": [],
   "source": [
    "measurement_type_stats"
   ]
  },
  {
   "cell_type": "code",
   "execution_count": null,
   "metadata": {},
   "outputs": [],
   "source": [
    "import json\n",
    "\n",
    "def serialize_sets(obj):\n",
    "    if isinstance(obj, set):\n",
    "        return list(obj)\n",
    "\n",
    "    return obj\n",
    "\n",
    "\n",
    "with open('measurement_type_stats.json', 'w') as fp:\n",
    "    json.dump(measurement_type_stats, fp, default=serialize_sets)"
   ]
  },
  {
   "cell_type": "code",
   "execution_count": null,
   "metadata": {},
   "outputs": [],
   "source": [
    "from glob import glob\n",
    "import pandas as pd\n",
    "\n",
    "data_key_stats = []\n",
    "measurement_type_stats = {}\n",
    "\n",
    "for dt in types:\n",
    "    for schema in glob(dt + \"/*.schema.json\", recursive = True):\n",
    "        manufacturer = schema.split(os.sep)[2]\n",
    "        dt = schema.split(os.sep)[3]\n",
    "        topic = schema.split(os.sep)[4].split(\".schema.json\")[0]\n",
    "        with open(schema) as f:\n",
    "            dt_schema = json.load(f)\n",
    "            n_data_keys = len(dt_schema[\"properties\"].keys())\n",
    "            data_key_stats.append({\"n_data_keys\": n_data_keys, \"manufacturer\": manufacturer, \"device_type\": dt, \"topic\": topic, \"device_type_id\": manufacturer + \".\" + dt})\n",
    "\n",
    "            for data_key, value in dt_schema[\"properties\"].items():\n",
    "                if value.get(\"hideFromKpis\") is not True:\n",
    "                    measurement_type = value.get(\"$ref\")\n",
    "                    if measurement_type is not None:\n",
    "                        if measurement_type in measurement_type_stats:\n",
    "                            measurement_type_stats[measurement_type][\"count\"] += 1\n",
    "                            measurement_type_stats[measurement_type][\"topics\"].add(dt_schema[\"topic\"])\n",
    "                            measurement_type_stats[measurement_type][\"dataKeys\"].add(data_key)\n",
    "                        else:\n",
    "                            measurement_type_stats[measurement_type] = { \"count\":  1, \"topics\": {dt_schema[\"topic\"]}, \"dataKeys\": {data_key}}\n",
    "                    \n",
    "df = pd.DataFrame(data_key_stats)\n",
    "df.head()"
   ]
  },
  {
   "cell_type": "code",
   "execution_count": null,
   "metadata": {},
   "outputs": [],
   "source": [
    "measurement_type_stats"
   ]
  },
  {
   "cell_type": "code",
   "execution_count": null,
   "metadata": {},
   "outputs": [],
   "source": [
    "import json\n",
    "\n",
    "def serialize_sets(obj):\n",
    "    if isinstance(obj, set):\n",
    "        return list(obj)\n",
    "\n",
    "    return obj\n",
    "\n",
    "\n",
    "with open('measurement_type_stats_no_hide_from_kpis.json', 'w') as fp:\n",
    "    json.dump(measurement_type_stats, fp, default=serialize_sets)"
   ]
  },
  {
   "cell_type": "code",
   "execution_count": null,
   "metadata": {},
   "outputs": [],
   "source": []
  }
 ],
 "metadata": {
  "kernelspec": {
   "display_name": "Python 3 (ipykernel)",
   "language": "python",
   "name": "python3"
  },
  "language_info": {
   "codemirror_mode": {
    "name": "ipython",
    "version": 3
   },
   "file_extension": ".py",
   "mimetype": "text/x-python",
   "name": "python",
   "nbconvert_exporter": "python",
   "pygments_lexer": "ipython3",
   "version": "3.11.12"
  }
 },
 "nbformat": 4,
 "nbformat_minor": 4
}
