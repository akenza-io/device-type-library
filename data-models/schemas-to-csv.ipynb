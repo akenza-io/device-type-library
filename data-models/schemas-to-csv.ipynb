{
 "cells": [
  {
   "cell_type": "code",
   "execution_count": null,
   "metadata": {},
   "outputs": [],
   "source": [
    "#Load modules\n",
    "import sys\n",
    "import os\n",
    "import json\n",
    "import csv\n",
    "from datetime import date"
   ]
  },
  {
   "cell_type": "code",
   "execution_count": null,
   "metadata": {},
   "outputs": [],
   "source": [
    "#Get all measurement categories\n",
    "libraryPath = './'\n",
    "categories = []\n",
    "for item in os.listdir(libraryPath):\n",
    "   if os.path.isdir(libraryPath + item) and not item.startswith('.'):\n",
    "      categories.append(item)"
   ]
  },
  {
   "cell_type": "code",
   "execution_count": null,
   "metadata": {},
   "outputs": [],
   "source": [
    "#Get all measurement types and save it to the csv file\n",
    "with open('schemas.csv', 'w') as outputFile:\n",
    "    writer = csv.DictWriter(outputFile, ['id', 'category', 'categoryDescription', 'measurementType', 'subtype', 'title', 'unit', 'datatype', 'description', 'minimum', 'maximum', 'measurementTypeID'])\n",
    "    writer.writeheader()\n",
    "\n",
    "    for category in categories:\n",
    "\n",
    "        inputFile = open(libraryPath + category + '/schema.json', 'r')\n",
    "        rawSchema = inputFile.read()\n",
    "        schema = json.loads(rawSchema)\n",
    "\n",
    "        for measurementType in schema['$defs']: \n",
    "            for subtype in schema['$defs'][measurementType]:\n",
    "                row = {\n",
    "                    'id': schema['$id'],\n",
    "                    'category': schema['title'],\n",
    "                    'categoryDescription': schema['description'],\n",
    "                    'measurementType': measurementType,\n",
    "                    'subtype': subtype,\n",
    "                    'title': schema['$defs'][measurementType][subtype]['title'],\n",
    "                    'unit': schema['$defs'][measurementType][subtype].get('unit', ''),\n",
    "                    'datatype': schema['$defs'][measurementType][subtype]['type'],\n",
    "                    'description': schema['$defs'][measurementType][subtype]['description'],\n",
    "                    'minimum': schema['$defs'][measurementType][subtype].get('minimum', ''),\n",
    "                    'maximum': schema['$defs'][measurementType][subtype].get('maximum', ''),\n",
    "                    'measurementTypeID': schema['$defs'][measurementType][subtype]['measurementType'],\n",
    "                }\n",
    "\n",
    "                writer.writerow(row)"
   ]
  },
  {
   "cell_type": "code",
   "execution_count": null,
   "metadata": {},
   "outputs": [],
   "source": []
  },
  {
   "cell_type": "code",
   "execution_count": null,
   "metadata": {},
   "outputs": [],
   "source": []
  }
 ],
 "metadata": {
  "kernelspec": {
   "display_name": "Python 3 (ipykernel)",
   "language": "python",
   "name": "python3"
  },
  "language_info": {
   "codemirror_mode": {
    "name": "ipython",
    "version": 3
   },
   "file_extension": ".py",
   "mimetype": "text/x-python",
   "name": "python",
   "nbconvert_exporter": "python",
   "pygments_lexer": "ipython3",
   "version": "3.11.9"
  }
 },
 "nbformat": 4,
 "nbformat_minor": 4
}
