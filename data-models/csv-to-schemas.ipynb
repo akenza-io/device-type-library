{
 "cells": [
  {
   "cell_type": "code",
   "execution_count": null,
   "metadata": {},
   "outputs": [],
   "source": [
    "#Load modules\n",
    "import sys\n",
    "import os\n",
    "import json\n",
    "import csv\n",
    "from datetime import date"
   ]
  },
  {
   "cell_type": "code",
   "execution_count": null,
   "metadata": {},
   "outputs": [],
   "source": [
    "#Read\n",
    "inputFile = open('schemas.csv', 'r')\n",
    "csv = csv.DictReader(inputFile)\n",
    "schemas = []\n",
    "for row in csv:\n",
    "    schemas.append(row)\n"
   ]
  },
  {
   "cell_type": "code",
   "execution_count": null,
   "metadata": {},
   "outputs": [],
   "source": [
    "#Group by category\n",
    "\n",
    "uncapitalize = lambda s: s[:1].lower() + s[1:] if s else ''\n",
    "\n",
    "measurementTypes = {}\n",
    "measurementTypes['categories'] = {}\n",
    "for schema in schemas:\n",
    "    if schema['category'] not in measurementTypes['categories']:\n",
    "        measurementTypes['categories'][schema['category']] = []\n",
    "    measurementTypes['categories'][schema['category']].append(schema)\n",
    "    \n",
    "#group by measurement type\n",
    "grouped = {}\n",
    "for category in measurementTypes['categories']:\n",
    "    if category not in grouped:\n",
    "        grouped[category] = {}\n",
    "    for entry in measurementTypes['categories'][category]:\n",
    "        if entry['measurementType'] not in grouped[category]:\n",
    "           grouped[category][entry['measurementType']] = {}\n",
    "        grouped[category][entry['measurementType']][entry['subtype']] = {\n",
    "                #\"measurementType\":  entry['measurementTypeID'],\n",
    "                \"measurementType\":  \"akenza/\" + uncapitalize(entry['category']) + \"/\" + entry['measurementType'] + \"/\" + entry['subtype'],\n",
    "                \"title\":            entry['title'],\n",
    "                \"description\":      entry['description'],\n",
    "                \"type\":             entry['datatype']\n",
    "            }\n",
    "        if entry['unit'] != '':\n",
    "            grouped[category][entry['measurementType']][entry['subtype']]['unit'] = entry['unit']\n",
    "        if entry['minimum'] != '':\n",
    "            if entry['minimum'].isdigit():\n",
    "                grouped[category][entry['measurementType']][entry['subtype']]['minimum'] = int(entry['minimum'])\n",
    "            else:\n",
    "                grouped[category][entry['measurementType']][entry['subtype']]['minimum'] = float(entry['minimum'])\n",
    "        if entry['maximum'] != '':\n",
    "            if entry['maximum'].isdigit():\n",
    "                grouped[category][entry['measurementType']][entry['subtype']]['maximum'] = int(entry['maximum'])\n",
    "            else:\n",
    "                grouped[category][entry['measurementType']][entry['subtype']]['maximum'] = float(entry['maximum'])\n",
    "        \n",
    "\n",
    "    grouped[category]['categoryDescription'] = entry['categoryDescription']\n",
    "    #grouped[category]['id'] = entry['id']\n",
    "    grouped[category]['id'] = 'https://raw.githubusercontent.com/akenza-io/device-type-library/main/data-models/' + category.lower() + '/schema.json',"
   ]
  },
  {
   "cell_type": "code",
   "execution_count": null,
   "metadata": {},
   "outputs": [],
   "source": [
    "#Write files\n",
    "\n",
    "for category in grouped:\n",
    "    os.makedirs(os.path.dirname('./' + category.lower() + '/'), exist_ok=True)\n",
    "\n",
    "    with open('./' + category.lower() + '/schema.json', 'w') as outputFile:\n",
    "        fileTemplate = {\n",
    "            '$schema': 'http://json-schema.org/draft-07/schema#',\n",
    "            '$id': 'https://raw.githubusercontent.com/akenza-io/device-type-library/main/data-models/' + uncapitalize(category) + '/schema.json',\n",
    "            'title': category,\n",
    "            'description': grouped[category]['categoryDescription'],\n",
    "            'type': 'object',\n",
    "        }\n",
    "        del grouped[category]['categoryDescription']\n",
    "        del grouped[category]['id']\n",
    "        fileTemplate['$defs'] = grouped[category]\n",
    "\n",
    "        json.dump(fileTemplate, outputFile, ensure_ascii=False, indent=4)\n",
    "\n"
   ]
  },
  {
   "cell_type": "code",
   "execution_count": null,
   "metadata": {},
   "outputs": [],
   "source": []
  }
 ],
 "metadata": {
  "kernelspec": {
   "display_name": "Python 3 (ipykernel)",
   "language": "python",
   "name": "python3"
  },
  "language_info": {
   "codemirror_mode": {
    "name": "ipython",
    "version": 3
   },
   "file_extension": ".py",
   "mimetype": "text/x-python",
   "name": "python",
   "nbconvert_exporter": "python",
   "pygments_lexer": "ipython3",
   "version": "3.11.9"
  }
 },
 "nbformat": 4,
 "nbformat_minor": 4
}
