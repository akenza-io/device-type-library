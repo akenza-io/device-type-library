{
 "cells": [
  {
   "cell_type": "code",
   "execution_count": null,
   "metadata": {},
   "outputs": [],
   "source": [
    "#Load modules\n",
    "import sys\n",
    "import os\n",
    "import json\n",
    "import csv\n",
    "from datetime import date\n",
    "from glob import glob\n",
    "import pandas as pd"
   ]
  },
  {
   "cell_type": "code",
   "execution_count": 28,
   "metadata": {},
   "outputs": [
    {
     "data": {
      "text/html": [
       "<div>\n",
       "<style scoped>\n",
       "    .dataframe tbody tr th:only-of-type {\n",
       "        vertical-align: middle;\n",
       "    }\n",
       "\n",
       "    .dataframe tbody tr th {\n",
       "        vertical-align: top;\n",
       "    }\n",
       "\n",
       "    .dataframe thead th {\n",
       "        text-align: right;\n",
       "    }\n",
       "</style>\n",
       "<table border=\"1\" class=\"dataframe\">\n",
       "  <thead>\n",
       "    <tr style=\"text-align: right;\">\n",
       "      <th></th>\n",
       "      <th>n_data_keys</th>\n",
       "    </tr>\n",
       "  </thead>\n",
       "  <tbody>\n",
       "    <tr>\n",
       "      <th>count</th>\n",
       "      <td>805.000000</td>\n",
       "    </tr>\n",
       "    <tr>\n",
       "      <th>mean</th>\n",
       "      <td>6.352795</td>\n",
       "    </tr>\n",
       "    <tr>\n",
       "      <th>std</th>\n",
       "      <td>11.830783</td>\n",
       "    </tr>\n",
       "    <tr>\n",
       "      <th>min</th>\n",
       "      <td>1.000000</td>\n",
       "    </tr>\n",
       "    <tr>\n",
       "      <th>25%</th>\n",
       "      <td>2.000000</td>\n",
       "    </tr>\n",
       "    <tr>\n",
       "      <th>50%</th>\n",
       "      <td>3.000000</td>\n",
       "    </tr>\n",
       "    <tr>\n",
       "      <th>75%</th>\n",
       "      <td>7.000000</td>\n",
       "    </tr>\n",
       "    <tr>\n",
       "      <th>max</th>\n",
       "      <td>145.000000</td>\n",
       "    </tr>\n",
       "  </tbody>\n",
       "</table>\n",
       "</div>"
      ],
      "text/plain": [
       "       n_data_keys\n",
       "count   805.000000\n",
       "mean      6.352795\n",
       "std      11.830783\n",
       "min       1.000000\n",
       "25%       2.000000\n",
       "50%       3.000000\n",
       "75%       7.000000\n",
       "max     145.000000"
      ]
     },
     "execution_count": 28,
     "metadata": {},
     "output_type": "execute_result"
    }
   ],
   "source": [
    "root_dir = \"\"\n",
    "rows_list = []\n",
    "for schema in glob(\"../types/**/*.schema.json\", recursive = True):\n",
    "    manufacturer = schema.split(os.sep)[2]\n",
    "    dt = schema.split(os.sep)[3]\n",
    "    topic = schema.split(os.sep)[4].split(\".schema.json\")[0]\n",
    "    with open(schema) as f:\n",
    "        dt_schema = json.load(f)\n",
    "        n_data_keys = len(dt_schema[\"properties\"].keys())\n",
    "        rows_list.append({\"n_data_keys\": n_data_keys, \"manufacturer\": manufacturer, \"device_type\": dt, \"topic\": topic, \"device_type_id\": manufacturer + \".\" + dt})\n",
    "\n",
    "df = pd.DataFrame(rows_list)\n",
    "df.describe()"
   ]
  },
  {
   "cell_type": "code",
   "execution_count": 29,
   "metadata": {},
   "outputs": [
    {
     "data": {
      "text/html": [
       "<div>\n",
       "<style scoped>\n",
       "    .dataframe tbody tr th:only-of-type {\n",
       "        vertical-align: middle;\n",
       "    }\n",
       "\n",
       "    .dataframe tbody tr th {\n",
       "        vertical-align: top;\n",
       "    }\n",
       "\n",
       "    .dataframe thead th {\n",
       "        text-align: right;\n",
       "    }\n",
       "</style>\n",
       "<table border=\"1\" class=\"dataframe\">\n",
       "  <thead>\n",
       "    <tr style=\"text-align: right;\">\n",
       "      <th></th>\n",
       "      <th>n_data_keys</th>\n",
       "      <th>manufacturer</th>\n",
       "      <th>device_type</th>\n",
       "      <th>topic</th>\n",
       "      <th>device_type_id</th>\n",
       "    </tr>\n",
       "  </thead>\n",
       "  <tbody>\n",
       "    <tr>\n",
       "      <th>195</th>\n",
       "      <td>145</td>\n",
       "      <td>tektelic</td>\n",
       "      <td>smartRoomPIRV3_1</td>\n",
       "      <td>system</td>\n",
       "      <td>tektelic.smartRoomPIRV3_1</td>\n",
       "    </tr>\n",
       "    <tr>\n",
       "      <th>519</th>\n",
       "      <td>64</td>\n",
       "      <td>elsys</td>\n",
       "      <td>eiaqd10</td>\n",
       "      <td>configuration</td>\n",
       "      <td>elsys.eiaqd10</td>\n",
       "    </tr>\n",
       "    <tr>\n",
       "      <th>558</th>\n",
       "      <td>64</td>\n",
       "      <td>elsys</td>\n",
       "      <td>ems-door</td>\n",
       "      <td>configuration</td>\n",
       "      <td>elsys.ems-door</td>\n",
       "    </tr>\n",
       "    <tr>\n",
       "      <th>529</th>\n",
       "      <td>64</td>\n",
       "      <td>elsys</td>\n",
       "      <td>ers-lite</td>\n",
       "      <td>configuration</td>\n",
       "      <td>elsys.ers-lite</td>\n",
       "    </tr>\n",
       "    <tr>\n",
       "      <th>526</th>\n",
       "      <td>64</td>\n",
       "      <td>elsys</td>\n",
       "      <td>elt-lite</td>\n",
       "      <td>configuration</td>\n",
       "      <td>elsys.elt-lite</td>\n",
       "    </tr>\n",
       "    <tr>\n",
       "      <th>...</th>\n",
       "      <td>...</td>\n",
       "      <td>...</td>\n",
       "      <td>...</td>\n",
       "      <td>...</td>\n",
       "      <td>...</td>\n",
       "    </tr>\n",
       "    <tr>\n",
       "      <th>647</th>\n",
       "      <td>1</td>\n",
       "      <td>milesight</td>\n",
       "      <td>EM500-SWL</td>\n",
       "      <td>lifecycle</td>\n",
       "      <td>milesight.EM500-SWL</td>\n",
       "    </tr>\n",
       "    <tr>\n",
       "      <th>258</th>\n",
       "      <td>1</td>\n",
       "      <td>talkpool</td>\n",
       "      <td>oy1700</td>\n",
       "      <td>startup</td>\n",
       "      <td>talkpool.oy1700</td>\n",
       "    </tr>\n",
       "    <tr>\n",
       "      <th>649</th>\n",
       "      <td>1</td>\n",
       "      <td>milesight</td>\n",
       "      <td>TS101</td>\n",
       "      <td>lifecycle</td>\n",
       "      <td>milesight.TS101</td>\n",
       "    </tr>\n",
       "    <tr>\n",
       "      <th>249</th>\n",
       "      <td>1</td>\n",
       "      <td>xovis</td>\n",
       "      <td>PC2SV5</td>\n",
       "      <td>zone</td>\n",
       "      <td>xovis.PC2SV5</td>\n",
       "    </tr>\n",
       "    <tr>\n",
       "      <th>0</th>\n",
       "      <td>1</td>\n",
       "      <td>abeeway</td>\n",
       "      <td>compactTracker</td>\n",
       "      <td>activity_status</td>\n",
       "      <td>abeeway.compactTracker</td>\n",
       "    </tr>\n",
       "  </tbody>\n",
       "</table>\n",
       "<p>805 rows × 5 columns</p>\n",
       "</div>"
      ],
      "text/plain": [
       "     n_data_keys manufacturer       device_type            topic  \\\n",
       "195          145     tektelic  smartRoomPIRV3_1           system   \n",
       "519           64        elsys           eiaqd10    configuration   \n",
       "558           64        elsys          ems-door    configuration   \n",
       "529           64        elsys          ers-lite    configuration   \n",
       "526           64        elsys          elt-lite    configuration   \n",
       "..           ...          ...               ...              ...   \n",
       "647            1    milesight         EM500-SWL        lifecycle   \n",
       "258            1     talkpool            oy1700          startup   \n",
       "649            1    milesight             TS101        lifecycle   \n",
       "249            1        xovis            PC2SV5             zone   \n",
       "0              1      abeeway    compactTracker  activity_status   \n",
       "\n",
       "                device_type_id  \n",
       "195  tektelic.smartRoomPIRV3_1  \n",
       "519              elsys.eiaqd10  \n",
       "558             elsys.ems-door  \n",
       "529             elsys.ers-lite  \n",
       "526             elsys.elt-lite  \n",
       "..                         ...  \n",
       "647        milesight.EM500-SWL  \n",
       "258            talkpool.oy1700  \n",
       "649            milesight.TS101  \n",
       "249               xovis.PC2SV5  \n",
       "0       abeeway.compactTracker  \n",
       "\n",
       "[805 rows x 5 columns]"
      ]
     },
     "execution_count": 29,
     "metadata": {},
     "output_type": "execute_result"
    }
   ],
   "source": [
    "df.sort_values(by=[\"n_data_keys\"], ascending=False)"
   ]
  },
  {
   "cell_type": "code",
   "execution_count": 30,
   "metadata": {},
   "outputs": [
    {
     "data": {
      "text/plain": [
       "count    240.000000\n",
       "mean       6.154586\n",
       "std        6.685799\n",
       "min        1.000000\n",
       "25%        2.500000\n",
       "50%        3.583333\n",
       "75%        6.616667\n",
       "max       38.500000\n",
       "Name: n_data_keys, dtype: float64"
      ]
     },
     "execution_count": 30,
     "metadata": {},
     "output_type": "execute_result"
    }
   ],
   "source": [
    "df_agg_by_dt = df.groupby('device_type_id')['n_data_keys'].mean()\n",
    "df_agg_by_dt.describe()"
   ]
  },
  {
   "cell_type": "code",
   "execution_count": 31,
   "metadata": {},
   "outputs": [
    {
     "data": {
      "text/plain": [
       "device_type_id\n",
       "astraled.airQualityLuminary_V0_03    38.50\n",
       "astraled.airQualityLuminary_V0_02    34.00\n",
       "astraled.mantis                      34.00\n",
       "tektelic.smartRoomPIRV3_1            30.60\n",
       "watecco.bob                          28.25\n",
       "                                     ...  \n",
       "milesight.EM500-SWL                   1.00\n",
       "milesight.EM500-PP                    1.00\n",
       "milesight.EM500-LGT                   1.00\n",
       "milesight.EM300-MLD                   1.00\n",
       "yanzi.presenceMini                    1.00\n",
       "Name: n_data_keys, Length: 240, dtype: float64"
      ]
     },
     "execution_count": 31,
     "metadata": {},
     "output_type": "execute_result"
    }
   ],
   "source": [
    "df_agg_by_dt.sort_values(ascending=False)"
   ]
  },
  {
   "cell_type": "code",
   "execution_count": 32,
   "metadata": {},
   "outputs": [
    {
     "data": {
      "text/plain": [
       "count    240.000000\n",
       "mean       3.354167\n",
       "std        2.904978\n",
       "min        1.000000\n",
       "25%        2.000000\n",
       "50%        2.000000\n",
       "75%        4.000000\n",
       "max       35.000000\n",
       "Name: topic, dtype: float64"
      ]
     },
     "execution_count": 32,
     "metadata": {},
     "output_type": "execute_result"
    }
   ],
   "source": [
    "df_agg_by_dt_topics = df.groupby('device_type_id')['topic'].count()\n",
    "df_agg_by_dt_topics.describe()"
   ]
  },
  {
   "cell_type": "code",
   "execution_count": 33,
   "metadata": {},
   "outputs": [
    {
     "data": {
      "text/plain": [
       "device_type_id\n",
       "comtac.Cluey                     35\n",
       "haltian.thingseeAir              12\n",
       "haltian.thingseeEnvironment      11\n",
       "myDevices.cayenne                10\n",
       "abeeway.badgeTracker             10\n",
       "                                 ..\n",
       "seeed.senseCAPSoilTemperature     1\n",
       "mclimate.floodSensor              1\n",
       "mclimate.co2                      1\n",
       "mclimate.button                   1\n",
       "internal.deviceSimulator          1\n",
       "Name: topic, Length: 240, dtype: int64"
      ]
     },
     "execution_count": 33,
     "metadata": {},
     "output_type": "execute_result"
    }
   ],
   "source": [
    "df_agg_by_dt_topics.sort_values(ascending=False)"
   ]
  },
  {
   "cell_type": "code",
   "execution_count": null,
   "metadata": {},
   "outputs": [],
   "source": []
  }
 ],
 "metadata": {
  "kernelspec": {
   "display_name": "Python (akenza-analytics)",
   "language": "python",
   "name": "akenza-analytics"
  },
  "language_info": {
   "codemirror_mode": {
    "name": "ipython",
    "version": 3
   },
   "file_extension": ".py",
   "mimetype": "text/x-python",
   "name": "python",
   "nbconvert_exporter": "python",
   "pygments_lexer": "ipython3",
   "version": "3.11.9"
  }
 },
 "nbformat": 4,
 "nbformat_minor": 4
}
